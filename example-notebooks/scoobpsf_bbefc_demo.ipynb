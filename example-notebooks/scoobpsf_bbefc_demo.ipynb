{
 "cells": [
  {
   "cell_type": "markdown",
   "id": "463d06e8-a468-406b-968a-c7407d5885a3",
   "metadata": {},
   "source": [
    "# Polychromatic PSF simulations with EFC\n",
    "This notebook demonstrates how to simulate polychromatic PSFs with the scoobPSF package and run EFC. <br>\n",
    "It follows from the scoob_psf_demo_poly notebook and the scoob_model_efc notebook. <br>\n",
    "Note that there are several \"FIXME's\" that are included for discussion on how we might re-structure this package."
   ]
  },
  {
   "cell_type": "code",
   "execution_count": null,
   "id": "ed07e4df-9d78-49d5-bd0e-45f90eb91af0",
   "metadata": {},
   "outputs": [],
   "source": [
    "import numpy as np\n",
    "import matplotlib.pyplot as plt\n",
    "from matplotlib.patches import Circle\n",
    "import astropy.units as u\n",
    "from astropy.io import fits\n",
    "from pathlib import Path\n",
    "from IPython.display import clear_output, display, HTML\n",
    "display(HTML(\"<style>.container { width:90% !important; }</style>\"))\n",
    "from importlib import reload\n",
    "import os\n",
    "import copy\n",
    "\n",
    "import poppy\n",
    "import ray\n",
    "import lina\n",
    "\n",
    "import logging, sys\n",
    "poppy_log = logging.getLogger('poppy')\n",
    "poppy_log.setLevel('DEBUG')\n",
    "logging.basicConfig(stream=sys.stdout, level=logging.INFO)\n",
    "poppy_log.disabled = True\n",
    "\n",
    "import scoobpsf\n",
    "from scoobpsf.math_module import xp, _scipy\n",
    "from scoobpsf.imshows import *\n",
    "from scoobpsf import scoobm"
   ]
  },
  {
   "cell_type": "markdown",
   "id": "7cb604e4-97a9-4df1-85dd-171d7a3b33d7",
   "metadata": {},
   "source": [
    "## Optical System Parameters\n",
    "The following cell provides parameters of the optical system"
   ]
  },
  {
   "cell_type": "code",
   "execution_count": null,
   "id": "cb86a3ae-96f0-4e25-bac4-aff613281b86",
   "metadata": {},
   "outputs": [],
   "source": [
    "pupil_diam = 6.75*u.mm \n",
    "lyot_diam=3.6*u.mm\n",
    "det_rotation = 0 #  degrees of rotation of the detector relative to the optical axis\n",
    "\n",
    "# Flat wavefront as determined by Kyle doing phase diversity measurements.\n",
    "dm_flat = fits.getdata(scoobm.module_path/'scoob_dm_flat.fits')\n",
    "dm_flat0=copy.copy(dm_flat)\n",
    "# Known bad actuator is 26,21 - useful to keep this value \n",
    "# as a variable since \"dm_flat\" evolves throughout the notebook\n",
    "bad_act_value=dm_flat[26,21]"
   ]
  },
  {
   "cell_type": "markdown",
   "id": "6f213c6c-b0fb-43c3-8aa6-95fcb3c15baf",
   "metadata": {},
   "source": [
    "## Simulation Parameters\n",
    "The following cell provides parameters which are specific to the simulation"
   ]
  },
  {
   "cell_type": "code",
   "execution_count": null,
   "id": "4f424448-18f6-48ed-8ee2-b15c4c2fa348",
   "metadata": {},
   "outputs": [],
   "source": [
    "# wavelength_c = 632.8e-9*u.m # central wavelength\n",
    "wavelength_c = 630e-9*u.m # central wavelength\n",
    "npix=int(512/4)  # Sampling of pupil plane?\n",
    "oversample=int(16/4)\n",
    "npsf = int(400)  # Side length of the camera in pixels\n",
    "use_opds=True #  Incorporate WFE from each optical component"
   ]
  },
  {
   "cell_type": "markdown",
   "id": "fa523acf-7166-435c-b67d-d777206554a8",
   "metadata": {
    "tags": []
   },
   "source": [
    "### Set wavelength sampling parameters\n",
    "Note that the bandwidth is to be set in nm, but is provided below as a percentage of the central wavelength.\n",
    "The parallelization of the simulation follows from the number of wavelengths (nlam."
   ]
  },
  {
   "cell_type": "code",
   "execution_count": null,
   "id": "a52c89e5-ff11-4325-9f77-44ed80931840",
   "metadata": {},
   "outputs": [],
   "source": [
    "bandwidth=0.05*wavelength_c #nm\n",
    "bandwidth=10*u.nm\n",
    "nlam = 11 # number of wavelengths, which is also the number of actors"
   ]
  },
  {
   "cell_type": "code",
   "execution_count": null,
   "id": "f95c2478-0405-482c-9d9d-0296c0d40629",
   "metadata": {},
   "outputs": [],
   "source": [
    "minlam = wavelength_c - bandwidth/2\n",
    "maxlam = wavelength_c + bandwidth/2\n",
    "wavelengths = np.linspace( minlam, maxlam, nlam )\n",
    "print(f'PSF will be built using wavelengths: {wavelengths.to(\"nm\")}')"
   ]
  },
  {
   "cell_type": "markdown",
   "id": "7d6ec12f-089f-4291-8cfc-7f82b76ef4d2",
   "metadata": {},
   "source": [
    "### Set source flux for each wavelength\n",
    "Array will be normalized so the integrated flux is 1."
   ]
  },
  {
   "cell_type": "code",
   "execution_count": null,
   "id": "71b37141-fd94-4966-9359-a3b74f68c51f",
   "metadata": {},
   "outputs": [],
   "source": [
    "# Set Source Flux for each wavelength\n",
    "# Assume a flat spectrum for now \n",
    "f_lambda=xp.ones(len(wavelengths))\n",
    "\n",
    "f_lambda/=xp.sum(f_lambda)\n",
    "print(f_lambda)"
   ]
  },
  {
   "cell_type": "markdown",
   "id": "95a0d2f2-f739-4a8a-b3cf-f8238035ac98",
   "metadata": {},
   "source": [
    "## Declare the coronograph setup\n",
    "Note that by default, the coronograph is not installed when the class gets instantiated."
   ]
  },
  {
   "cell_type": "code",
   "execution_count": null,
   "id": "a1698f24-e89e-4017-a712-ecb1e85839bb",
   "metadata": {},
   "outputs": [],
   "source": [
    "vortex = scoobpsf.agpm.IdealAGPM(name='VVC', wavelength=wavelength_c, charge=6, rotation=20)\n",
    "lyot_stop = poppy.CircularAperture(name='Lyot Stop', radius=lyot_diam/2.0)"
   ]
  },
  {
   "cell_type": "markdown",
   "id": "df08fc44-7957-4dff-b3a1-82e10e9f278c",
   "metadata": {},
   "source": [
    "#### Optional: Use the knife edge as a FPM\n",
    "Knife edge shifted to 2 lambda/D.<br>\n",
    "Note that he f/# at the FPM is 48."
   ]
  },
  {
   "cell_type": "code",
   "execution_count": null,
   "id": "830631b5-0949-4ae4-99b4-e2b989e9bc46",
   "metadata": {},
   "outputs": [],
   "source": [
    "shift = (2 * wavelength_c * 48).to(\"um\")\n",
    "knife_edge = poppy.KnifeEdge(name='Knife Edge', rotation=0, shift_x=-shift)"
   ]
  },
  {
   "cell_type": "markdown",
   "id": "7089a772",
   "metadata": {},
   "source": [
    "## Declare bad actuators"
   ]
  },
  {
   "cell_type": "code",
   "execution_count": null,
   "id": "bd6f1f6e",
   "metadata": {},
   "outputs": [],
   "source": [
    "# bad_acts=0 # No bad actuators\n",
    "bad_acts=[(26,21)] # 1 dead actuator"
   ]
  },
  {
   "cell_type": "markdown",
   "id": "6236f2da",
   "metadata": {},
   "source": [
    "## Initialize the class with the appropriate parameters for a non-coronographic PSF"
   ]
  },
  {
   "cell_type": "code",
   "execution_count": null,
   "id": "88611da5-f3c0-40e6-90e8-b7ad546a6bb7",
   "metadata": {},
   "outputs": [],
   "source": [
    "scoob_kwargs = {'npix':npix, \n",
    "                'npsf':npsf,\n",
    "                'bad_acts': bad_acts,\n",
    "                'oversample':oversample, \n",
    "                'det_rotation':det_rotation, \n",
    "                'use_opds':use_opds,\n",
    "                'pupil_diam':pupil_diam,\n",
    "}"
   ]
  },
  {
   "cell_type": "code",
   "execution_count": null,
   "id": "62026c30",
   "metadata": {},
   "outputs": [],
   "source": [
    "reload(scoobm)\n",
    "model = scoobm.SCOOBM(**scoob_kwargs)"
   ]
  },
  {
   "cell_type": "markdown",
   "id": "908b6ab0-2699-47d0-a9a7-5fde3acd8ab3",
   "metadata": {},
   "source": [
    "Make a ray actor class from the original scoobm class "
   ]
  },
  {
   "cell_type": "code",
   "execution_count": null,
   "id": "01ceb9a1-deef-4e0d-9b5f-1bf75d71a5fe",
   "metadata": {},
   "outputs": [],
   "source": [
    "ray_scoobm = ray.remote(scoobm.SCOOBM)"
   ]
  },
  {
   "cell_type": "markdown",
   "id": "1d4befdf-6c3b-41f5-9931-5122bf30a695",
   "metadata": {},
   "source": [
    "Instantiate one class (actor) per wavelength"
   ]
  },
  {
   "cell_type": "code",
   "execution_count": null,
   "id": "c189eaf1-3841-4986-9398-f6865fa5878a",
   "metadata": {},
   "outputs": [],
   "source": [
    "actors = []\n",
    "for i in range(nlam):\n",
    "    actors.append(ray_scoobm.options(num_gpus=1/nlam).remote(**scoob_kwargs))\n",
    "    # Set actor specific keywords\n",
    "    actors[i].setattr.remote('wavelength', wavelengths[i])"
   ]
  },
  {
   "cell_type": "markdown",
   "id": "a9f4aa17-38b0-4879-b70f-f5e0ce86ae1b",
   "metadata": {},
   "source": [
    "Instantiate the parallelizedScoob class which handles the actors"
   ]
  },
  {
   "cell_type": "code",
   "execution_count": null,
   "id": "48cf69f7-a8e0-493b-81ab-7a9ab50cafc9",
   "metadata": {},
   "outputs": [],
   "source": [
    "# This is just for debugging convenience\n",
    "reload(scoobm)\n",
    "from scoobpsf.scoobm import ParallelizedScoob\n",
    "p_scoob=ParallelizedScoob(actors,f_lambda)"
   ]
  },
  {
   "cell_type": "code",
   "execution_count": null,
   "id": "328de291",
   "metadata": {},
   "outputs": [],
   "source": [
    "# FIXME: Add parameters that are derived in the model but not elsewhere and \n",
    "# are needed at the parallelized level\n",
    "# p_scoob.set_actor_attr('dm_mask',model.dm_mask)\n",
    "p_scoob.dm_mask=model.dm_mask\n",
    "p_scoob.dm_bad_act_mask = model.dm_bad_act_mask\n",
    "p_scoob.Nact=model.Nact\n",
    "p_scoob.psf_pixelscale_lamD = model.psf_pixelscale_lamD"
   ]
  },
  {
   "cell_type": "code",
   "execution_count": null,
   "id": "73dddee0",
   "metadata": {},
   "outputs": [],
   "source": []
  },
  {
   "cell_type": "markdown",
   "id": "8a500f8a-c82a-4b22-95be-556f10c46234",
   "metadata": {},
   "source": [
    "## Add desired shape on the DM"
   ]
  },
  {
   "cell_type": "code",
   "execution_count": null,
   "id": "311fe83c-078a-4369-921f-7cf6803e0985",
   "metadata": {},
   "outputs": [],
   "source": [
    "# The flattest wavefront obtained for the system in the lab by\n",
    "# performing phase diversity\n",
    "# dm_flat = fits.getdata(scoobm.module_path/'scoob_dm_flat.fits')"
   ]
  },
  {
   "cell_type": "code",
   "execution_count": null,
   "id": "3d22dedb-935c-4359-8049-781ba1065058",
   "metadata": {},
   "outputs": [],
   "source": [
    "p_scoob.set_dm(dm_flat)"
   ]
  },
  {
   "cell_type": "markdown",
   "id": "9a19ef1c",
   "metadata": {},
   "source": [
    "### Pin the bad actuators to desired value(s)\n"
   ]
  },
  {
   "cell_type": "code",
   "execution_count": null,
   "id": "c2bd67dc",
   "metadata": {},
   "outputs": [],
   "source": [
    "pin=True\n",
    "if pin:\n",
    "    # pinned_value=med_val+(np.sqrt(49.)*(bad_act_value-med_val)/16)\n",
    "    pinned_value=bad_act_value\n",
    "    if bad_acts:\n",
    "        print(f'Pinning {len(bad_acts)} bad actuators at {pinned_value*1e9:0.3f} nm')\n",
    "        for act in bad_acts:\n",
    "            # print(act)\n",
    "            dm_flat[act]=pinned_value"
   ]
  },
  {
   "cell_type": "markdown",
   "id": "512d9603-782d-4617-ae8c-c06296b1667e",
   "metadata": {},
   "source": [
    "## Run all wavelengths unocculted to determine normalization factors\n",
    "Setting the actor attributes to None first ensures the correct masks are in which is helpful if cells are not run sequentially."
   ]
  },
  {
   "cell_type": "code",
   "execution_count": null,
   "id": "6d6be793-f2ca-4eba-bf88-659c90b94c00",
   "metadata": {},
   "outputs": [],
   "source": [
    "fpm=None\n",
    "lyot=None\n",
    "p_scoob.set_actor_attr('FPM',fpm)\n",
    "p_scoob.set_actor_attr('LYOT',lyot)\n",
    "\n",
    "psfs_unocc = p_scoob.snaps()\n",
    "# imshow1(psfs_unocc[0], f'Image for wavelength {wavelengths[0].to(\"nm\"):0.1f}', lognorm=True)"
   ]
  },
  {
   "cell_type": "markdown",
   "id": "6d0efe96-bc1c-4215-b6a2-0eb9fcb76c19",
   "metadata": {},
   "source": [
    "### First insert FPM & Lyot Mask to determine the occulted PSFs"
   ]
  },
  {
   "cell_type": "code",
   "execution_count": null,
   "id": "11e2b731-1356-4682-a366-b2ef9e5737ee",
   "metadata": {},
   "outputs": [],
   "source": [
    "# fpm = knife_edge\n",
    "fpm = vortex\n",
    "lyot = lyot_stop"
   ]
  },
  {
   "cell_type": "code",
   "execution_count": null,
   "id": "cdcf830d-f60f-4923-8c1c-3aac6c80b21a",
   "metadata": {},
   "outputs": [],
   "source": [
    "# p_scoob.set_actor_attr('FPM',vortex)\n",
    "p_scoob.set_actor_attr('FPM',fpm)\n",
    "p_scoob.set_actor_attr('LYOT',lyot)"
   ]
  },
  {
   "cell_type": "code",
   "execution_count": null,
   "id": "e6aff628-922d-44ff-93cb-6126c9bb7410",
   "metadata": {},
   "outputs": [],
   "source": [
    "# DO NOT NORMALIZE - this will be done later\n",
    "# The reason for not normalizing here is due to the future weighting of the relative fluxes for each wavelength\n",
    "# Note that it could probably still be done here, but I wonder if it's better to do a re-think on this.\n",
    "\n",
    "### Set normalization factor based on the maximum of the unocculted value\n",
    "# Setting this here doesn't work as expected when running EFC.\n",
    "# Or maybe this is because I need to recalculate the jacobian.\n",
    "# for i in range(nlam):\n",
    "    # actors[i].setattr.remote('im_norm', psfs_unocc[i].max())"
   ]
  },
  {
   "cell_type": "markdown",
   "id": "db9f2091-5017-4646-80e3-7147642dbaa0",
   "metadata": {},
   "source": [
    "Create array of unocculted and non-normalized PSFs"
   ]
  },
  {
   "cell_type": "code",
   "execution_count": null,
   "id": "72dfab5b-a672-46cf-a52d-8c66d6fcd6e7",
   "metadata": {},
   "outputs": [],
   "source": [
    "psfs_occ = p_scoob.snaps()"
   ]
  },
  {
   "cell_type": "markdown",
   "id": "ae97cbf1-8f00-4192-ab2a-46b7c722fd52",
   "metadata": {},
   "source": [
    "Display a slice"
   ]
  },
  {
   "cell_type": "code",
   "execution_count": null,
   "id": "1f244b20-b6e8-4e84-accb-1c58a0a669f1",
   "metadata": {},
   "outputs": [],
   "source": [
    "i=0\n",
    "norm=psfs_unocc[i].max()\n",
    "imshow1(psfs_occ[i]/norm, f'Normalized Image for wavelength {wavelengths[0].to(\"nm\"):0.1f}', lognorm=True)"
   ]
  },
  {
   "cell_type": "markdown",
   "id": "d767f57e",
   "metadata": {},
   "source": [
    "## Define the Region of the Dark Hole"
   ]
  },
  {
   "cell_type": "code",
   "execution_count": null,
   "id": "322b0a89-27cf-4b01-b78f-60b0c5bb8fff",
   "metadata": {},
   "outputs": [],
   "source": [
    "reload(lina.utils)\n",
    "npsf = int(npsf)  # called npsf in scoobm\n",
    "nact = 34  # FIXME: currently hard coded in scoobm\n",
    "\n",
    "xfp = (xp.linspace(-npsf/2, npsf/2-1, npsf) + 1/2)*model.psf_pixelscale_lamD\n",
    "fpx,fpy = xp.meshgrid(xfp,xfp)\n",
    "\n",
    "edge = 2\n",
    "iwa = 3\n",
    "owa = 10\n",
    "rot = 0\n",
    "\n",
    "# Create the mask that is used to select which region to make dark.\n",
    "dark_params = {\n",
    "    'inner_radius' : iwa,\n",
    "    'outer_radius' : owa,\n",
    "    'edge' : edge,\n",
    "    'rotation':rot,\n",
    "}\n",
    "dark_mask = lina.utils.create_annular_focal_plane_mask(fpx, fpy, dark_params)\n",
    "imshow2(dark_mask, dark_mask*psfs_occ[i], \"dark mask\", \"occulted image * mask\",\n",
    "        lognorm2=True)"
   ]
  },
  {
   "cell_type": "markdown",
   "id": "be2073a0-b3b9-4351-bab1-069f874578af",
   "metadata": {},
   "source": [
    "## Perform intensity weighting and combination of PSFs\n",
    "This section creates unocculted and occulted PSFs based on the desired weighting at each wavelength. <br>\n",
    "The spectrum is normalized such that the integral over the wavelength range will be 1."
   ]
  },
  {
   "cell_type": "code",
   "execution_count": null,
   "id": "d44153de-33ae-44a6-8973-a31fbe38aeea",
   "metadata": {},
   "outputs": [],
   "source": [
    "psf_occ_calib, psf_unocc_calib = ParallelizedScoob.flux_calibrate_psf(psfs_occ, f_lambda, norm=psfs_unocc)"
   ]
  },
  {
   "cell_type": "markdown",
   "id": "b2e0a679-b22b-4da4-b482-7a715492db78",
   "metadata": {},
   "source": [
    "Need pixel scale for display. <br>\n",
    "The pixelscale of 4.63um corresponds to ~0.2 lam/D per pixel using the 150mm final imaging lens. <br>\n",
    "The value was determined empirically by injecting sinusoidal waves. <br>\n",
    "FIXME: this is hard coded in the model but should come up a few levels to the instrument configuration level"
   ]
  },
  {
   "cell_type": "code",
   "execution_count": null,
   "id": "20f723de-9b03-4988-be41-9f538caa980a",
   "metadata": {},
   "outputs": [],
   "source": [
    "psf_pixelscale = 4.63e-6*u.m/u.pix\n",
    "psf_pixelscale_lamD = (1/(5)) * psf_pixelscale.to(u.m/u.pix).value/4.63e-6"
   ]
  },
  {
   "cell_type": "code",
   "execution_count": null,
   "id": "2f1e6da7-ab4d-44d7-ba85-8685c9cf943d",
   "metadata": {},
   "outputs": [],
   "source": [
    "imshow2(psf_unocc_calib, psf_occ_calib, lognorm1=True, lognorm2=True, pxscl=model.psf_pixelscale_lamD)"
   ]
  },
  {
   "cell_type": "code",
   "execution_count": null,
   "id": "cc9f2bcc-277f-4e29-aa18-f41fd356c08d",
   "metadata": {},
   "outputs": [],
   "source": [
    "# Calculate the base metrics for the DH\n",
    "print(f'Total counts in DH: {np.sum(dark_mask*psf_occ_calib):0.3e}')\n",
    "print(f'Mean value in DH: {np.mean(dark_mask*psf_occ_calib):0.3e}')\n",
    "print(f'Contrast in DH: {np.std(dark_mask*psf_occ_calib):0.3e}')"
   ]
  },
  {
   "cell_type": "markdown",
   "id": "1368a5be-54ba-446c-b207-a5883b139125",
   "metadata": {},
   "source": [
    "## Calculate the complex wavefront (this is for debugging)\n",
    "This requires scaling first or the jacobian will be wrong."
   ]
  },
  {
   "cell_type": "code",
   "execution_count": null,
   "id": "4dca6c31-4567-470f-92f8-a39035797c76",
   "metadata": {},
   "outputs": [],
   "source": [
    "# this will provide a complex wavefront\n",
    "poly_psf = p_scoob.calc_psf()"
   ]
  },
  {
   "cell_type": "code",
   "execution_count": null,
   "id": "0a007827-68df-45cb-942a-9166bd789cf6",
   "metadata": {},
   "outputs": [],
   "source": [
    "norm=psf_unocc_calib.max()\n",
    "print(f'{norm=}')\n",
    "inten=xp.abs((poly_psf/np.sqrt(norm))**2)\n",
    "imshow1(inten, f'Normalized Image for wavelength {wavelengths[0].to(\"nm\"):0.1f}', \n",
    "        lognorm=True,vmin=1e-8,vmax=1)"
   ]
  },
  {
   "cell_type": "code",
   "execution_count": null,
   "id": "3ba41814-273c-4fd7-bd09-fbb5ca4f82bc",
   "metadata": {},
   "outputs": [],
   "source": [
    "# # Calculate the base metrics for the DH\n",
    "print(f'Total counts in DH: {np.sum(dark_mask*inten):0.3e}')\n",
    "print(f'Mean value in DH: {np.mean(dark_mask*inten):0.3e}')\n",
    "print(f'Contrast in DH: {np.std(dark_mask*inten):0.3e}')"
   ]
  },
  {
   "cell_type": "code",
   "execution_count": null,
   "id": "276cf10d-78a6-4092-b6b3-f700c1d7742a",
   "metadata": {},
   "outputs": [],
   "source": []
  },
  {
   "cell_type": "code",
   "execution_count": null,
   "id": "be201f08-f73f-4063-a06f-2c19ef76b860",
   "metadata": {},
   "outputs": [],
   "source": []
  },
  {
   "cell_type": "code",
   "execution_count": null,
   "id": "f5d58c65-1f6d-435a-b14e-4d51668bd150",
   "metadata": {},
   "outputs": [],
   "source": []
  },
  {
   "cell_type": "code",
   "execution_count": null,
   "id": "fd840a0d",
   "metadata": {},
   "outputs": [],
   "source": [
    "reload(lina.efc)\n",
    "\n",
    "p_scoob.set_dm(dm_flat)\n",
    "epsilon = 1e-9 # poke amplitudes (DM surface), presumably in meters"
   ]
  },
  {
   "cell_type": "markdown",
   "id": "81974e05-d822-4fe9-a4fc-86b8cc7dae6e",
   "metadata": {},
   "source": [
    "### Derive and save the Jacobian \n",
    "This calculation only needs to be done once per system setup, so saving it is useful.<br>\n",
    "FIXME: We need a new filename system, plus the information on system setup should go into the fits header.\n",
    "One way to do this would be to derive the filename of the jacobian early on, before any simulations are run. <br>\n",
    "The resulting simulated values can then go into a dictionary that is then passed on and modified in each step."
   ]
  },
  {
   "cell_type": "code",
   "execution_count": null,
   "id": "02ad8d9b-1906-4fa2-8f5b-1940bfc4f3e3",
   "metadata": {},
   "outputs": [],
   "source": []
  },
  {
   "cell_type": "code",
   "execution_count": null,
   "id": "880f3d2b-0f97-462f-9222-9122dc1352b8",
   "metadata": {},
   "outputs": [],
   "source": [
    "if bool(bad_acts):\n",
    "    filename=f'jac-efc-npix{model.npix}-oversample{model.oversample}-fpm{fpm.name}-cw{wavelength_c.to(\"nm\").value:0.0f}-bp{bandwidth.to(\"nm\").value:0.0f}-nlam{nlam}-badacts{len(bad_acts)}.fits'.replace(\" \",\"\")\n",
    "else:\n",
    "    filename=f'jac-efc-npix{model.npix}-oversample{model.oversample}-fpm{fpm.name}-cw{wavelength_c.to(\"nm\").value:0.0f}-bp{bandwidth.to(\"nm\").value:0.0f}-nlam{nlam}.fits'.replace(\" \",\"\")\n",
    "print(f'{filename=}')"
   ]
  },
  {
   "cell_type": "code",
   "execution_count": null,
   "id": "b900d484-abb1-4899-9e1d-e1d9eceb3c70",
   "metadata": {},
   "outputs": [],
   "source": [
    "if os.path.isfile(filename) is False:\n",
    "    jac = lina.efc.build_jacobian(p_scoob, epsilon, dark_mask, plot=False)\n",
    "    scoobpsf.utils.save_fits(filename, scoobpsf.math_module.ensure_np_array(jac))\n",
    "else:\n",
    "    print('Jacobian exists, skipping')"
   ]
  },
  {
   "cell_type": "code",
   "execution_count": null,
   "id": "b441c4e7-d38a-4f13-8887-5b184f696739",
   "metadata": {},
   "outputs": [],
   "source": [
    "jac = xp.array(fits.getdata(filename))"
   ]
  },
  {
   "cell_type": "code",
   "execution_count": null,
   "id": "16e0e61c-6936-4d3b-b7cb-abddb51cf2d5",
   "metadata": {},
   "outputs": [],
   "source": []
  },
  {
   "cell_type": "code",
   "execution_count": null,
   "id": "5b40317d-94dd-43a0-b037-93ab95ef0dec",
   "metadata": {},
   "outputs": [],
   "source": [
    "reload(lina.utils)\n",
    "response = lina.utils.map_acts_to_dm(xp.sqrt(((jac)**2).sum(axis=0)).get(), model.dm_mask)\n",
    "imshow1(response, lognorm=True, vmin=1e3, vmax=3e6)"
   ]
  },
  {
   "cell_type": "markdown",
   "id": "a607e2d7-0077-4c41-bf13-1bc68a7618dc",
   "metadata": {},
   "source": [
    "### Normalization discussion\n",
    "FIXME: The response here is a factor of 7.73 lower than the monochromatic simulations. <br>\n",
    "Looks to be because calc_psfs isn't normalizing by the non-occulted wavefront. <br>\n",
    "I think we might want to consider how the normalization is structured in the scoobPSF code as it might be worth abstracting to perform at the parallelization layer."
   ]
  },
  {
   "cell_type": "code",
   "execution_count": null,
   "id": "5d77bd63-b8a0-48f3-8a0a-116bba5181f5",
   "metadata": {},
   "outputs": [],
   "source": [
    "# np.median(response[model.dm_mask])"
   ]
  },
  {
   "cell_type": "markdown",
   "id": "564810a0-023b-45aa-9e88-3f8432a34c29",
   "metadata": {},
   "source": [
    "## Run EFC"
   ]
  },
  {
   "cell_type": "code",
   "execution_count": null,
   "id": "fcc92253",
   "metadata": {},
   "outputs": [],
   "source": [
    "reload(lina.efc)\n",
    "reload(lina.utils)\n",
    "reload(lina.math_module)\n",
    "model.set_dm(dm_flat)"
   ]
  },
  {
   "cell_type": "code",
   "execution_count": null,
   "id": "bba6d5e5",
   "metadata": {
    "tags": []
   },
   "outputs": [],
   "source": [
    "%time\n",
    "# declare penalty matrix value, and number of iterations for each value (10)\n",
    "# -4 --> -1 represent the beta value for regularization\n",
    "\n",
    "# Sidick starts at -4, then goes down to -1\n",
    "reg_conds = [(-4, 10), (-3,10), (-2,10), (-1, 10)]\n",
    "\n",
    "for i in range(len(reg_conds)):\n",
    "    print(f'{i=}')\n",
    "    # Derive the control matrix, which is the gain matrix from Sidick 2012\n",
    "    # details are described in utils.beta_reg.\n",
    "    # matrix is then flattened, therefore not in 2d and matched to dm coords.\n",
    "    control_matrix = lina.utils.beta_reg(jac, reg_conds[i][0])\n",
    "    \n",
    "    # Assume a system with perfect knowledge of the E-field\n",
    "    ims, commands, sms_fig = lina.efc.run_efc_perfect(p_scoob, \n",
    "                                            jac, \n",
    "                                            control_matrix,\n",
    "                                            dark_mask, \n",
    "                                            Imax_unocc=1,\n",
    "                                            efc_loop_gain=0.5, \n",
    "                                            iterations=reg_conds[i][1], \n",
    "                                            plot_all=True, \n",
    "                                            plot_sms=False,\n",
    "                                            plot_radial_contrast=True)"
   ]
  },
  {
   "cell_type": "markdown",
   "id": "07bce337-4ce3-4147-bdc2-6d7b03ec4403",
   "metadata": {},
   "source": [
    "## Normalize the Contrast Values\n",
    "This is just done by hand for now until the proper solution is discussed and implemented"
   ]
  },
  {
   "cell_type": "code",
   "execution_count": null,
   "id": "93d3f3b3-e51a-4c08-9381-9ff89814e8d8",
   "metadata": {},
   "outputs": [],
   "source": [
    "2.126e-12/(psf_unocc_calib.max())"
   ]
  },
  {
   "cell_type": "markdown",
   "id": "fb14c49a-eaa8-4eac-874d-c8e230f04f8d",
   "metadata": {},
   "source": [
    "## Plot final DM shape\n",
    "show final DM shape, with the flat removed. <br>\n",
    "This shows how the DM moved as a result of the EFC runs."
   ]
  },
  {
   "cell_type": "code",
   "execution_count": null,
   "id": "3594cbfd",
   "metadata": {},
   "outputs": [],
   "source": [
    "tmp=(p_scoob.get_dm()-dm_flat)*p_scoob.dm_mask\n",
    "imshow1(tmp, 'DM shape - flat')\n",
    "\n",
    "# Re-calculate metrics for DH\n",
    "med_val = np.median(tmp[model.dm_mask])\n",
    "std_val = np.std(tmp[model.dm_mask])\n",
    "ptv=np.max(tmp[model.dm_mask])-np.min(tmp[model.dm_mask])\n",
    "print(f'Median is: {med_val*1e9:0.1f} nm')\n",
    "print(f'stddev is: {std_val*1e9:0.1f} nm')\n",
    "print(f'PtV is: {ptv*1e9:0.1f} nm')"
   ]
  }
 ],
 "metadata": {
  "kernelspec": {
   "display_name": "Python 3 (ipykernel)",
   "language": "python",
   "name": "python3"
  },
  "language_info": {
   "codemirror_mode": {
    "name": "ipython",
    "version": 3
   },
   "file_extension": ".py",
   "mimetype": "text/x-python",
   "name": "python",
   "nbconvert_exporter": "python",
   "pygments_lexer": "ipython3",
   "version": "3.10.9"
  }
 },
 "nbformat": 4,
 "nbformat_minor": 5
}
