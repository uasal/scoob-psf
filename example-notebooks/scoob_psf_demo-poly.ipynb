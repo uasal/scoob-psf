{
 "cells": [
  {
   "cell_type": "markdown",
   "id": "463d06e8-a468-406b-968a-c7407d5885a3",
   "metadata": {},
   "source": [
    "# Polychromatic PSF simulation with Scoob\n",
    "The scoobPSF package builds a layer on-top of poppy that is specific to the scoob optical bench.\n",
    "This notebook demonstrates how to simulate polychromatic PSFs with the scoobPSF package. <br>"
   ]
  },
  {
   "cell_type": "code",
   "execution_count": null,
   "id": "ed07e4df-9d78-49d5-bd0e-45f90eb91af0",
   "metadata": {},
   "outputs": [],
   "source": [
    "import numpy as np\n",
    "import matplotlib.pyplot as plt\n",
    "from matplotlib.patches import Circle\n",
    "import astropy.units as u\n",
    "from astropy.io import fits\n",
    "from pathlib import Path\n",
    "from IPython.display import clear_output, display, HTML\n",
    "display(HTML(\"<style>.container { width:90% !important; }</style>\"))\n",
    "from importlib import reload\n",
    "\n",
    "import poppy\n",
    "import ray\n",
    "\n",
    "import logging, sys\n",
    "poppy_log = logging.getLogger('poppy')\n",
    "poppy_log.setLevel('DEBUG')\n",
    "logging.basicConfig(stream=sys.stdout, level=logging.INFO)\n",
    "poppy_log.disabled = True\n",
    "\n",
    "import scoobpsf\n",
    "from scoobpsf.math_module import xp, _scipy\n",
    "from scoobpsf.imshows import *\n",
    "from scoobpsf import scoobm"
   ]
  },
  {
   "cell_type": "markdown",
   "id": "7cb604e4-97a9-4df1-85dd-171d7a3b33d7",
   "metadata": {},
   "source": [
    "## Optical System Parameters\n",
    "The following cell provides parameters of the optical system"
   ]
  },
  {
   "cell_type": "code",
   "execution_count": null,
   "id": "cb86a3ae-96f0-4e25-bac4-aff613281b86",
   "metadata": {},
   "outputs": [],
   "source": [
    "pupil_diam = 6.75*u.mm \n",
    "lyot_diam=3.6*u.mm\n",
    "det_rotation = 20 #  degrees of rotation of the detector relative to the optical axis"
   ]
  },
  {
   "cell_type": "markdown",
   "id": "6f213c6c-b0fb-43c3-8aa6-95fcb3c15baf",
   "metadata": {},
   "source": [
    "## Simulation Parameters\n",
    "The following cell provides parameters which are specific to the simulation"
   ]
  },
  {
   "cell_type": "code",
   "execution_count": null,
   "id": "4f424448-18f6-48ed-8ee2-b15c4c2fa348",
   "metadata": {},
   "outputs": [],
   "source": [
    "wavelength_c = 632.8e-9*u.m # central wavelength\n",
    "npix=512/4\n",
    "oversample=16/4\n",
    "use_opds=False #  Incorporate WFE from each optical component"
   ]
  },
  {
   "cell_type": "markdown",
   "id": "fa523acf-7166-435c-b67d-d777206554a8",
   "metadata": {
    "tags": []
   },
   "source": [
    "### Set wavelength sampling parameters\n",
    "Note that the bandwidth is to be set in nm, but is provided below as a percentage of the central wavelength.\n",
    "The parallelization of the simulation follows from the number of wavelengths (nlam."
   ]
  },
  {
   "cell_type": "code",
   "execution_count": null,
   "id": "a52c89e5-ff11-4325-9f77-44ed80931840",
   "metadata": {},
   "outputs": [],
   "source": [
    "bandwidth=0.1*wavelength_c # Fractional bandwidth\n",
    "bandwidth=10 * u.nm\n",
    "nlam = 3 # number of wavelengths, which is also the number of actors"
   ]
  },
  {
   "cell_type": "code",
   "execution_count": null,
   "id": "f95c2478-0405-482c-9d9d-0296c0d40629",
   "metadata": {},
   "outputs": [],
   "source": [
    "minlam = wavelength_c - bandwidth/2\n",
    "maxlam = wavelength_c + bandwidth/2\n",
    "wavelengths = np.linspace( minlam, maxlam, nlam )\n",
    "print(f'PSF will be built using wavelengths: {wavelengths}')"
   ]
  },
  {
   "cell_type": "markdown",
   "id": "7d6ec12f-089f-4291-8cfc-7f82b76ef4d2",
   "metadata": {},
   "source": [
    "### Set source flux for each wavelength\n",
    "Array will be normalized so the integrated flux is 1."
   ]
  },
  {
   "cell_type": "code",
   "execution_count": null,
   "id": "71b37141-fd94-4966-9359-a3b74f68c51f",
   "metadata": {},
   "outputs": [],
   "source": [
    "## Set Source Flux for each wavelength\n",
    "f_lambda=xp.ones(len(wavelengths))\n",
    "f_lambda/=xp.sum(f_lambda)\n",
    "print(f_lambda)"
   ]
  },
  {
   "cell_type": "markdown",
   "id": "95a0d2f2-f739-4a8a-b3cf-f8238035ac98",
   "metadata": {},
   "source": [
    "## Declare the coronograph setup\n",
    "Note that by default, the coronograph is not installed when the class gets instantiated."
   ]
  },
  {
   "cell_type": "code",
   "execution_count": null,
   "id": "a1698f24-e89e-4017-a712-ecb1e85839bb",
   "metadata": {},
   "outputs": [],
   "source": [
    "vortex = scoobpsf.agpm.IdealAGPM(name='VVC', wavelength=wavelength_c, charge=6, singularity=20*u.um)\n",
    "lyot_stop = poppy.CircularAperture(name='Lyot Stop', radius=lyot_diam/2.0)"
   ]
  },
  {
   "cell_type": "markdown",
   "id": "f851bba2-8b7d-4929-a0fd-88f8af6779ff",
   "metadata": {},
   "source": [
    "#### Optional: Use the knife edge as a FPM\n",
    "Knife edge shifted to 2 lambda/D.<br>\n",
    "Note that he f/# at the FPM is 48."
   ]
  },
  {
   "cell_type": "code",
   "execution_count": null,
   "id": "830631b5-0949-4ae4-99b4-e2b989e9bc46",
   "metadata": {},
   "outputs": [],
   "source": [
    "shift = (2 * wavelength_c * 48).to(\"um\")\n",
    "knife_edge = poppy.KnifeEdge(name='Knife Edge', rotation=0, shift_x=-shift)"
   ]
  },
  {
   "cell_type": "markdown",
   "id": "6236f2da",
   "metadata": {},
   "source": [
    "## Initialize the classes with the appropriate parameters for a non-coronographic PSF"
   ]
  },
  {
   "cell_type": "code",
   "execution_count": null,
   "id": "88611da5-f3c0-40e6-90e8-b7ad546a6bb7",
   "metadata": {},
   "outputs": [],
   "source": [
    "scoob_kwargs = {'npix':npix, \n",
    "          'oversample':oversample, \n",
    "          'det_rotation':det_rotation, \n",
    "          'use_opds':use_opds,\n",
    "          'pupil_diam':pupil_diam,\n",
    "}"
   ]
  },
  {
   "cell_type": "markdown",
   "id": "ccdc3a87-964f-4e7a-a895-0081820402f7",
   "metadata": {},
   "source": [
    "Instantiate the scoobm model class, which is used to calculate several key numbers"
   ]
  },
  {
   "cell_type": "code",
   "execution_count": null,
   "id": "62026c30",
   "metadata": {},
   "outputs": [],
   "source": [
    "reload(scoobm)\n",
    "model = scoobm.SCOOBM(**scoob_kwargs)"
   ]
  },
  {
   "cell_type": "markdown",
   "id": "52d6beff-17ef-4922-b84e-e4bfedfed201",
   "metadata": {},
   "source": [
    "Instantiate a ray actor class from the original scoobm class "
   ]
  },
  {
   "cell_type": "code",
   "execution_count": null,
   "id": "01ceb9a1-deef-4e0d-9b5f-1bf75d71a5fe",
   "metadata": {},
   "outputs": [],
   "source": [
    "ray_scoobm = ray.remote(scoobm.SCOOBM)"
   ]
  },
  {
   "cell_type": "markdown",
   "id": "1d4befdf-6c3b-41f5-9931-5122bf30a695",
   "metadata": {},
   "source": [
    "Create one actor per wavelength"
   ]
  },
  {
   "cell_type": "code",
   "execution_count": null,
   "id": "c189eaf1-3841-4986-9398-f6865fa5878a",
   "metadata": {},
   "outputs": [],
   "source": [
    "actors = []\n",
    "for i in range(nlam):\n",
    "    actors.append(ray_scoobm.options(num_gpus=1/nlam).remote(**scoob_kwargs))\n",
    "    # Set actor specific keywords\n",
    "    actors[i].setattr.remote('wavelength', wavelengths[i])"
   ]
  },
  {
   "cell_type": "markdown",
   "id": "a9f4aa17-38b0-4879-b70f-f5e0ce86ae1b",
   "metadata": {},
   "source": [
    "Instantiate the parallelizedScoob class which handles the actors"
   ]
  },
  {
   "cell_type": "code",
   "execution_count": null,
   "id": "48cf69f7-a8e0-493b-81ab-7a9ab50cafc9",
   "metadata": {},
   "outputs": [],
   "source": [
    "reload(scoobm)\n",
    "from scoobpsf.scoobm import ParallelizedScoob\n",
    "p_scoob=ParallelizedScoob(actors,f_lambda)"
   ]
  },
  {
   "cell_type": "markdown",
   "id": "8a500f8a-c82a-4b22-95be-556f10c46234",
   "metadata": {},
   "source": [
    "## Add desired shape on the DM"
   ]
  },
  {
   "cell_type": "code",
   "execution_count": null,
   "id": "311fe83c-078a-4369-921f-7cf6803e0985",
   "metadata": {},
   "outputs": [],
   "source": [
    "# The flattest wavefront obtained for the system in the lab by\n",
    "# performing phase diversity\n",
    "dm_flat = fits.getdata(scoobm.module_path/'scoob_dm_flat.fits')"
   ]
  },
  {
   "cell_type": "code",
   "execution_count": null,
   "id": "3d22dedb-935c-4359-8049-781ba1065058",
   "metadata": {},
   "outputs": [],
   "source": [
    "p_scoob.set_dm(dm_flat)"
   ]
  },
  {
   "cell_type": "markdown",
   "id": "512d9603-782d-4617-ae8c-c06296b1667e",
   "metadata": {},
   "source": [
    "## Run all wavelengths unocculted to determine normalization factors\n",
    "Setting the actor attributes to None first ensures the correct masks are in which is helpful if cells are not run sequentially."
   ]
  },
  {
   "cell_type": "code",
   "execution_count": null,
   "id": "6d6be793-f2ca-4eba-bf88-659c90b94c00",
   "metadata": {},
   "outputs": [],
   "source": [
    "p_scoob.set_actor_attr('FPM',None)\n",
    "p_scoob.set_actor_attr('LYOT',None)\n",
    "\n",
    "psfs_unocc = p_scoob.snaps()\n",
    "imshow1(psfs_unocc[0], f'Image for wavelength {wavelengths[0].to(\"nm\"):0.1f}', lognorm=True)"
   ]
  },
  {
   "cell_type": "markdown",
   "id": "6d0efe96-bc1c-4215-b6a2-0eb9fcb76c19",
   "metadata": {},
   "source": [
    "### First insert FPM & Lyot Mask to determine the occulted PSFs"
   ]
  },
  {
   "cell_type": "code",
   "execution_count": null,
   "id": "cdcf830d-f60f-4923-8c1c-3aac6c80b21a",
   "metadata": {},
   "outputs": [],
   "source": [
    "p_scoob.set_actor_attr('FPM',vortex)\n",
    "p_scoob.set_actor_attr('LYOT',lyot_stop)"
   ]
  },
  {
   "cell_type": "code",
   "execution_count": null,
   "id": "e6aff628-922d-44ff-93cb-6126c9bb7410",
   "metadata": {},
   "outputs": [],
   "source": [
    "# DO NOT NORMALIZE - this will be done later\n",
    "### Set normalization factor based on the maximum of the unocculted value\n",
    "# for i in range(nlam):\n",
    "#     actors[i].setattr.remote('im_norm', )"
   ]
  },
  {
   "cell_type": "markdown",
   "id": "db9f2091-5017-4646-80e3-7147642dbaa0",
   "metadata": {},
   "source": [
    "Create array of unocculted and non-normalized PSFs"
   ]
  },
  {
   "cell_type": "code",
   "execution_count": null,
   "id": "72dfab5b-a672-46cf-a52d-8c66d6fcd6e7",
   "metadata": {},
   "outputs": [],
   "source": [
    "psfs_occ = p_scoob.snaps()"
   ]
  },
  {
   "cell_type": "markdown",
   "id": "ae97cbf1-8f00-4192-ab2a-46b7c722fd52",
   "metadata": {},
   "source": [
    "Display a slice"
   ]
  },
  {
   "cell_type": "code",
   "execution_count": null,
   "id": "1f244b20-b6e8-4e84-accb-1c58a0a669f1",
   "metadata": {},
   "outputs": [],
   "source": [
    "i=0\n",
    "norm=psfs_unocc[i].max()\n",
    "imshow1(psfs_occ[i]/norm, f'Normalized Image for wavelength {wavelengths[0].to(\"nm\"):0.1f}', lognorm=True)"
   ]
  },
  {
   "cell_type": "code",
   "execution_count": null,
   "id": "322b0a89-27cf-4b01-b78f-60b0c5bb8fff",
   "metadata": {},
   "outputs": [],
   "source": []
  },
  {
   "cell_type": "markdown",
   "id": "be2073a0-b3b9-4351-bab1-069f874578af",
   "metadata": {},
   "source": [
    "## Perform intensity weighting and combination of PSFs\n",
    "This section creates unocculted and occulted PSFs based on the desired weighting at each wavelength. <br>\n",
    "The spectrum is normalized such that the integral over the wavelength range will be 1."
   ]
  },
  {
   "cell_type": "code",
   "execution_count": null,
   "id": "32ea7bd1-84d7-4c26-9a33-a56010b16197",
   "metadata": {},
   "outputs": [],
   "source": [
    "# This is just for debugging convenience\n",
    "reload(scoobm)\n",
    "from scoobpsf.scoobm import ParallelizedScoob\n",
    "p_scoob=ParallelizedScoob(actors,f_lambda)"
   ]
  },
  {
   "cell_type": "code",
   "execution_count": null,
   "id": "d44153de-33ae-44a6-8973-a31fbe38aeea",
   "metadata": {},
   "outputs": [],
   "source": [
    "psf_occ_calib, psf_unocc_calib = ParallelizedScoob.flux_calibrate_psf(psfs_occ, f_lambda, norm=psfs_unocc)"
   ]
  },
  {
   "cell_type": "markdown",
   "id": "0b61637f-9541-4a08-8e46-55e59b4d7b32",
   "metadata": {},
   "source": [
    "Need pixel scale for display. <br>\n",
    "The pixelscale of 4.63um corresponds to ~0.2 lam/D per pixel using the 150mm final imaging lens. <br>\n",
    "The value was determined empirically by injecting sinusoidal waves. <br>\n",
    "FIXME: this is hard coded in the model but should come up a few levels to the instrument configuration level"
   ]
  },
  {
   "cell_type": "code",
   "execution_count": null,
   "id": "20f723de-9b03-4988-be41-9f538caa980a",
   "metadata": {},
   "outputs": [],
   "source": [
    "psf_pixelscale = 4.63e-6*u.m/u.pix\n",
    "psf_pixelscale_lamD = (1/(5)) * psf_pixelscale.to(u.m/u.pix).value/4.63e-6"
   ]
  },
  {
   "cell_type": "code",
   "execution_count": null,
   "id": "2f1e6da7-ab4d-44d7-ba85-8685c9cf943d",
   "metadata": {},
   "outputs": [],
   "source": [
    "imshow1(psf_occ_calib, lognorm=True, pxscl=model.psf_pixelscale_lamD)"
   ]
  },
  {
   "cell_type": "markdown",
   "id": "1b0568d0-640e-48db-9ab9-83013f005e0b",
   "metadata": {},
   "source": [
    "## Calculation of Wavefronts at each optic/plane\n",
    "The calc_wfs method can be used to calculate the wavefront at each plane.<br>\n",
    "Note that these are not normalized by the un-occulted PSF amplitudes."
   ]
  },
  {
   "cell_type": "markdown",
   "id": "116c6dd9-656d-4b6a-b7a9-c3bdd36299db",
   "metadata": {},
   "source": [
    "This is not yet implemented here. This is better accomplished using the monochromatic demo."
   ]
  },
  {
   "cell_type": "code",
   "execution_count": null,
   "id": "e6556e4f-ca80-40b8-a146-8ee4785a43ff",
   "metadata": {},
   "outputs": [],
   "source": []
  },
  {
   "cell_type": "code",
   "execution_count": null,
   "id": "e08fc95a-ca43-4d92-a29e-195544fb008d",
   "metadata": {},
   "outputs": [],
   "source": []
  }
 ],
 "metadata": {
  "kernelspec": {
   "display_name": "Python 3 (ipykernel)",
   "language": "python",
   "name": "python3"
  },
  "language_info": {
   "codemirror_mode": {
    "name": "ipython",
    "version": 3
   },
   "file_extension": ".py",
   "mimetype": "text/x-python",
   "name": "python",
   "nbconvert_exporter": "python",
   "pygments_lexer": "ipython3",
   "version": "3.10.9"
  }
 },
 "nbformat": 4,
 "nbformat_minor": 5
}
