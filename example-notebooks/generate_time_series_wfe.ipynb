{
 "cells": [
  {
   "cell_type": "code",
   "execution_count": 4,
   "metadata": {},
   "outputs": [],
   "source": [
    "import numpy as np\n",
    "import astropy.units as u\n",
    "import astropy.io.fits as fits\n",
    "\n",
    "import matplotlib.pyplot as plt\n",
    "\n",
    "from scoobpsf.math_module import xp, ensure_np_array\n",
    "from scoobpsf.utils import pad_or_crop\n",
    "\n",
    "def kneePSD(f,beta,fn,alpha):\n",
    "    psd = beta/(1+f/fn)**alpha\n",
    "    try:\n",
    "        psd.decompose()\n",
    "        return psd\n",
    "    except:\n",
    "        return psd\n",
    "    \n",
    "class wfe_time():\n",
    "    #test 2D generation of a time series from PSD\n",
    "    def __init__(self, screen_size,zerns_size,pixelscale,seed=None):\n",
    "        print(\"still not tested\")\n",
    "        if seed is not None:\n",
    "            psd_random.seed(seed)\n",
    "        self.time_noise=psd_random.normal(loc=0,size=(screen_size,zerns_size))*u.nm\n",
    "        self. freq_noise1 = xp.fft.fftn(time_noise, axes=[0])\n",
    "        self.screen_size=screen_size\n",
    "        self.zerns_size=zerns_size\n",
    "        self.pixelscale=pixelscale\n",
    "        \n",
    "    def scaled_psd(self):\n",
    "        psd_scaled1 = np.einsum(\"ij,i->ij\", \n",
    "                        freq_noise1,\n",
    "                        xp.sqrt(psd/(pixelscale.value**2))) \n",
    "\n",
    "        filtered=xp.fft.fftn(psd_scaled1,axes=[0])*np.sqrt(N)\n",
    "        \n",
    "\n",
    "        filtered = np.einsum('ab,b->ab', filtered,\n",
    "                                xp.sqrt(spatial_psd/(pixelscale.value**2))) #https://obilaniu6266h16.wordpress.com/2016/02/04/einstein-summation-in-numpy/\n",
    "        filtered *= Amp/filtered.std()\n",
    "        filtered=filtered-filtered[0,:]"
   ]
  },
  {
   "cell_type": "code",
   "execution_count": 7,
   "metadata": {},
   "outputs": [
    {
     "data": {
      "text/plain": [
       "array([1.00000e-02, 1.10000e-01, 2.10000e-01, ..., 1.02371e+03,\n",
       "       1.02381e+03, 1.02391e+03])"
      ]
     },
     "execution_count": 7,
     "metadata": {},
     "output_type": "execute_result"
    }
   ],
   "source": [
    "np.arange(0.01,1024,f_step)"
   ]
  },
  {
   "cell_type": "code",
   "execution_count": 5,
   "metadata": {},
   "outputs": [
    {
     "ename": "TypeError",
     "evalue": "unsupported operand type(s) for /: 'ndarray' and 'Unit'",
     "output_type": "error",
     "traceback": [
      "\u001b[0;31m---------------------------------------------------------------------------\u001b[0m",
      "\u001b[0;31mTypeError\u001b[0m                                 Traceback (most recent call last)",
      "Cell \u001b[0;32mIn[5], line 7\u001b[0m\n\u001b[1;32m      5\u001b[0m pixelscale \u001b[38;5;241m=\u001b[39m \u001b[38;5;241m1\u001b[39m\u001b[38;5;241m*\u001b[39mu\u001b[38;5;241m.\u001b[39msecond\n\u001b[1;32m      6\u001b[0m f_step \u001b[38;5;241m=\u001b[39m \u001b[38;5;241m.1\u001b[39m\n\u001b[0;32m----> 7\u001b[0m freq \u001b[38;5;241m=\u001b[39m np\u001b[38;5;241m.\u001b[39marange(\u001b[38;5;241m0.01\u001b[39m,\u001b[38;5;241m1024\u001b[39m,f_step)\u001b[38;5;241m*\u001b[39m\u001b[38;5;241m1\u001b[39m\u001b[38;5;241m/\u001b[39mu\u001b[38;5;241m.\u001b[39mhour \u001b[38;5;66;03m# ~ 1Hz through 1 KHz\u001b[39;00m\n\u001b[1;32m      8\u001b[0m samplerate\u001b[38;5;241m=\u001b[39mfreq[\u001b[38;5;241m-\u001b[39m\u001b[38;5;241m1\u001b[39m]\u001b[38;5;241m/\u001b[39mu\u001b[38;5;241m.\u001b[39msecond\n\u001b[1;32m      9\u001b[0m screen_size\u001b[38;5;241m=\u001b[39mfreq\u001b[38;5;241m.\u001b[39msize\n",
      "\u001b[0;31mTypeError\u001b[0m: unsupported operand type(s) for /: 'ndarray' and 'Unit'"
     ]
    }
   ],
   "source": [
    "T=40*u.hour\n",
    "np=xp\n",
    "\n",
    "\n",
    "pixelscale = 1*u.second\n",
    "f_step = .1\n",
    "freq = np.arange(0.01,1024,f_step)*1/u.hour # ~ 1Hz through 1 KHz\n",
    "samplerate=freq[-1]/u.second\n",
    "screen_size=freq.size\n",
    "N=screen_size\n",
    "\n",
    "psd = kneePSD(freq, 1, .45/u.hour, 7) #(freq,beta,fn,alpha)\n",
    "\n",
    "plt.plot(freq,psd)\n",
    "plt.title(\"temporal PSD\\n $\\int$= {}\".format(((np.trapz(psd)))))\n",
    "\n",
    "plt.yscale(\"log\")\n",
    "plt.xscale(\"log\")\n",
    "plt.xlabel(freq.unit)\n"
   ]
  }
 ],
 "metadata": {
  "kernelspec": {
   "display_name": "gpu311env",
   "language": "python",
   "name": "python3"
  },
  "language_info": {
   "codemirror_mode": {
    "name": "ipython",
    "version": 3
   },
   "file_extension": ".py",
   "mimetype": "text/x-python",
   "name": "python",
   "nbconvert_exporter": "python",
   "pygments_lexer": "ipython3",
   "version": "3.11.3"
  }
 },
 "nbformat": 4,
 "nbformat_minor": 2
}
