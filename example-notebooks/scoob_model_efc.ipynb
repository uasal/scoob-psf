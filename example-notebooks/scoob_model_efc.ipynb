{
 "cells": [
  {
   "cell_type": "code",
   "execution_count": null,
   "metadata": {},
   "outputs": [],
   "source": [
    "import numpy as np\n",
    "import matplotlib.pyplot as plt\n",
    "from matplotlib.patches import Circle\n",
    "import astropy.units as u\n",
    "from astropy.io import fits\n",
    "from pathlib import Path\n",
    "from IPython.display import clear_output, display, HTML\n",
    "display(HTML(\"<style>.container { width:90% !important; }</style>\"))\n",
    "from importlib import reload\n",
    "import copy\n",
    "import os\n",
    "\n",
    "import poppy\n",
    "\n",
    "import logging, sys\n",
    "poppy_log = logging.getLogger('poppy')\n",
    "poppy_log.setLevel('DEBUG')\n",
    "logging.basicConfig(stream=sys.stdout, level=logging.INFO)\n",
    "poppy_log.disabled = True\n",
    "\n",
    "import scoobpsf\n",
    "from scoobpsf.math_module import xp, _scipy\n",
    "from scoobpsf.imshows import *\n",
    "from scoobpsf import scoobm\n",
    "\n",
    "import lina\n",
    "\n",
    "pupil_diam = 6.75*u.mm\n",
    "wavelength_c = 632.8e-9*u.m\n",
    "\n",
    "lyot_diam = 3.6*u.mm\n",
    "\n",
    "# Flat wavefront as determined by Kyle doing phase diversity measurements.\n",
    "dm_flat = fits.getdata(scoobm.module_path/'scoob_dm_flat.fits')\n",
    "dm_flat0=copy.copy(dm_flat)\n",
    "# Known bad actuator is 26,21 - useful to keep this value \n",
    "# as a variable since \"dm_flat\" evolves throughout the notebook\n",
    "bad_act_value=dm_flat[26,21]\n",
    "\n",
    "vortex = scoobpsf.agpm.IdealAGPM(name='VVC', wavelength=wavelength_c, charge=6, rotation=20)\n",
    "lyot_stop = poppy.CircularAperture(name='Lyot Stop', radius=lyot_diam/2, gray_pixel=False)"
   ]
  },
  {
   "cell_type": "code",
   "execution_count": null,
   "metadata": {},
   "outputs": [],
   "source": [
    "imshow1(dm_flat)"
   ]
  },
  {
   "cell_type": "code",
   "execution_count": null,
   "metadata": {},
   "outputs": [],
   "source": [
    "!nvidia-smi"
   ]
  },
  {
   "cell_type": "code",
   "execution_count": null,
   "metadata": {},
   "outputs": [],
   "source": [
    "reload(scoobm)\n",
    "bad_acts=0\n",
    "bad_acts=[(26,21)] # 1 dead actuator\n",
    "# bad_acts=[(26,21), (18,12)] # 2 dead\n",
    "model = scoobm.SCOOBM(bad_acts, wavelength=wavelength_c-(0*10e-9*u.m), use_opds=True)"
   ]
  },
  {
   "cell_type": "code",
   "execution_count": null,
   "metadata": {},
   "outputs": [],
   "source": [
    "# Calculate the base metrics of the flat wavefront\n",
    "med_val = np.median(dm_flat[model.dm_mask])\n",
    "std_val = np.std(dm_flat[model.dm_mask])\n",
    "ptv=np.max(dm_flat[model.dm_mask])-np.min(dm_flat[model.dm_mask])\n",
    "print(f'Median is: {med_val*1e9:0.1f} nm')\n",
    "print(f'stddev is: {std_val*1e9:0.1f} nm')\n",
    "print(f'PtV is: {ptv*1e9:0.1f} nm')\n",
    "print(f'Bad actuator is {(np.max(dm_flat[model.dm_mask])-med_val)*1e9:0.1f} nm above the median value')"
   ]
  },
  {
   "cell_type": "code",
   "execution_count": null,
   "metadata": {},
   "outputs": [],
   "source": [
    "# Pin the actuators to desired value(s)\n",
    "pin=True\n",
    "if pin:\n",
    "    # pinned_value=med_val+(np.sqrt(49.)*(bad_act_value-med_val)/16)\n",
    "    pinned_value=bad_act_value\n",
    "    if bad_acts:\n",
    "        print(f'Pinning {len(bad_acts)} bad actuators at {pinned_value*1e9:0.3f} nm')\n",
    "        for act in bad_acts:\n",
    "            # print(act)\n",
    "            dm_flat[act]=pinned_value"
   ]
  },
  {
   "cell_type": "code",
   "execution_count": null,
   "metadata": {},
   "outputs": [],
   "source": [
    "# Re-calculate the base metrics of the flat wavefront with the\n",
    "# new actuator settings\n",
    "med_val = np.median(dm_flat[model.dm_mask])\n",
    "std_val = np.std(dm_flat[model.dm_mask])\n",
    "ptv=np.max(dm_flat[model.dm_mask])-np.min(dm_flat[model.dm_mask])\n",
    "print(f'Median is: {med_val*1e9:0.1f} nm')\n",
    "print(f'stddev is: {std_val*1e9:0.1f} nm')\n",
    "print(f'PtV is: {ptv*1e9:0.1f} nm')"
   ]
  },
  {
   "cell_type": "markdown",
   "metadata": {},
   "source": []
  },
  {
   "cell_type": "code",
   "execution_count": null,
   "metadata": {},
   "outputs": [],
   "source": [
    "# Standard flat\n",
    "model.npix = round(512/4)\n",
    "model.oversample = round(16/4)\n",
    "\n",
    "model.det_rotation = 0\n",
    "model.set_dm(dm_flat)\n",
    "\n",
    "model.imnorm = model.snap().max()\n",
    "\n",
    "normalized_im = model.snap()"
   ]
  },
  {
   "cell_type": "code",
   "execution_count": null,
   "metadata": {},
   "outputs": [],
   "source": [
    "# Now add the coronograph\n",
    "model.FPM = vortex\n",
    "model.LYOT = lyot_stop\n",
    "\n",
    "occ_im = model.snap()\n",
    "\n",
    "imshow2(normalized_im, occ_im, lognorm1=True, lognorm2=True, pxscl=model.psf_pixelscale_lamD)\n",
    "\n",
    "Nact = model.Nact\n",
    "npsf = model.npsf # 400, which is the side length in pixels of the camera\n",
    "psf_pixelscale_lamD = model.psf_pixelscale_lamD"
   ]
  },
  {
   "cell_type": "code",
   "execution_count": null,
   "metadata": {},
   "outputs": [],
   "source": [
    "reload(lina.utils)\n",
    "npsf = model.npsf\n",
    "nact = model.Nact\n",
    "\n",
    "xfp = (xp.linspace(-npsf/2, npsf/2-1, npsf) + 1/2)*model.psf_pixelscale_lamD\n",
    "fpx,fpy = xp.meshgrid(xfp,xfp)\n",
    "\n",
    "edge = 2\n",
    "iwa = 3\n",
    "owa = 10\n",
    "rot = 0\n",
    "\n",
    "# Create the mask that is used to select which region to make dark.\n",
    "dark_params = {\n",
    "    'inner_radius' : iwa,\n",
    "    'outer_radius' : owa,\n",
    "    'edge' : edge,\n",
    "    'rotation':rot,\n",
    "}\n",
    "dark_mask = lina.utils.create_annular_focal_plane_mask(fpx, fpy, dark_params)\n",
    "imshow2(dark_mask, dark_mask*occ_im, lognorm2=True)"
   ]
  },
  {
   "cell_type": "code",
   "execution_count": null,
   "metadata": {},
   "outputs": [],
   "source": [
    "# Calculate the base metrics for the DH\n",
    "print(f'Total counts in DH: {np.sum(dark_mask*occ_im):0.3e}')\n",
    "print(f'Mean value in DH: {np.mean(dark_mask*occ_im):0.3e}')\n",
    "print(f'Contrast in DH: {np.std(dark_mask*occ_im):0.3e}')"
   ]
  },
  {
   "cell_type": "code",
   "execution_count": null,
   "metadata": {
    "scrolled": true
   },
   "outputs": [],
   "source": [
    "reload(lina.efc)\n",
    "\n",
    "model.set_dm(dm_flat)\n",
    "epsilon = 1e-9 # poke amplitudes (DM surface), presumably in meters"
   ]
  },
  {
   "cell_type": "code",
   "execution_count": null,
   "metadata": {},
   "outputs": [],
   "source": [
    "if bool(bad_acts):\n",
    "    filename=f'jac-efc-npix{model.npix}-oversample{model.oversample}-badacts{len(bad_acts)}.fits'\n",
    "else:\n",
    "    filename=f'jac-efc-npix{model.npix}-oversample{model.oversample}.fits'\n",
    "print(f'{filename=}')"
   ]
  },
  {
   "cell_type": "code",
   "execution_count": null,
   "metadata": {},
   "outputs": [],
   "source": [
    "if os.path.isfile(filename) is False:\n",
    "    jac = lina.efc.build_jacobian(model, epsilon, dark_mask, plot=False)\n",
    "    reload(scoobpsf.utils)\n",
    "    scoobpsf.utils.save_fits(filename, scoobpsf.math_module.ensure_np_array(jac))\n",
    "else:\n",
    "    print('Jacobian exists, skipping')"
   ]
  },
  {
   "cell_type": "code",
   "execution_count": null,
   "metadata": {},
   "outputs": [],
   "source": [
    "jac = xp.array(fits.getdata(filename))"
   ]
  },
  {
   "cell_type": "code",
   "execution_count": null,
   "metadata": {},
   "outputs": [],
   "source": [
    "reload(lina.utils)\n",
    "response = lina.utils.map_acts_to_dm(xp.sqrt(((jac)**2).sum(axis=0)).get(), model.dm_mask)\n",
    "imshow1(response, lognorm=True, vmin=1e3)"
   ]
  },
  {
   "cell_type": "code",
   "execution_count": null,
   "metadata": {},
   "outputs": [],
   "source": [
    "reload(lina.efc)\n",
    "reload(lina.utils)\n",
    "reload(lina.math_module)\n",
    "model.set_dm(dm_flat)"
   ]
  },
  {
   "cell_type": "code",
   "execution_count": null,
   "metadata": {
    "scrolled": true,
    "tags": []
   },
   "outputs": [],
   "source": [
    "%time\n",
    "# declare penalty matrix value, and number of iterations for each value (10)\n",
    "# -4 --> -1 represent the beta value for regularization\n",
    "\n",
    "# Sidick starts at -4, then goes down to -1\n",
    "reg_conds = [(-4, 10), (-3,10), (-2,10), (-1, 10)]\n",
    "\n",
    "for i in range(len(reg_conds)):\n",
    "    print(f'{i=}')\n",
    "    # Derive the control matrix, which is the gain matrix from Sidick 2012\n",
    "    # details are described in utils.beta_reg.\n",
    "    # matrix is then flattened, therefore not in 2d and matched to dm coords.\n",
    "    control_matrix = lina.utils.beta_reg(jac, reg_conds[i][0])\n",
    "    \n",
    "    # Assume a system with perfect knowledge of the E-field\n",
    "    ims, commands, sms_fig = lina.efc.run_efc_perfect(model, \n",
    "                                            jac, \n",
    "                                            control_matrix,\n",
    "                                            dark_mask, \n",
    "                                            Imax_unocc=1,\n",
    "                                            efc_loop_gain=0.5, \n",
    "                                            iterations=reg_conds[i][1], \n",
    "                                            plot_all=True, \n",
    "                                            plot_sms=False,\n",
    "                                            plot_radial_contrast=True)"
   ]
  },
  {
   "cell_type": "code",
   "execution_count": null,
   "metadata": {},
   "outputs": [],
   "source": [
    "# show final DM shape, with the flat removed\n",
    "# this shows how the DM moved as a result of the EFC runs\n",
    "tmp=(model.get_dm()-dm_flat)*model.dm_mask\n",
    "imshow1(tmp, 'DM shape - flat')\n",
    "\n",
    "# Re-calculate metrics for DH\n",
    "med_val = np.median(tmp[model.dm_mask])\n",
    "std_val = np.std(tmp[model.dm_mask])\n",
    "ptv=np.max(tmp[model.dm_mask])-np.min(tmp[model.dm_mask])\n",
    "print(f'Median is: {med_val*1e9:0.1f} nm')\n",
    "print(f'stddev is: {std_val*1e9:0.1f} nm')\n",
    "print(f'PtV is: {ptv*1e9:0.1f} nm')"
   ]
  },
  {
   "cell_type": "code",
   "execution_count": null,
   "metadata": {},
   "outputs": [],
   "source": []
  }
 ],
 "metadata": {
  "kernelspec": {
   "display_name": "Python 3 (ipykernel)",
   "language": "python",
   "name": "python3"
  },
  "language_info": {
   "codemirror_mode": {
    "name": "ipython",
    "version": 3
   },
   "file_extension": ".py",
   "mimetype": "text/x-python",
   "name": "python",
   "nbconvert_exporter": "python",
   "pygments_lexer": "ipython3",
   "version": "3.10.9"
  }
 },
 "nbformat": 4,
 "nbformat_minor": 4
}
